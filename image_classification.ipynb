{
 "cells": [
  {
   "cell_type": "code",
   "execution_count": 1,
   "metadata": {},
   "outputs": [
    {
     "name": "stdout",
     "output_type": "stream",
     "text": [
      "Downloading data from https://storage.googleapis.com/tensorflow/tf-keras-datasets/mnist.npz\n",
      "11490434/11490434 [==============================] - 0s 0us/step\n",
      "Epoch 1/10\n",
      "1875/1875 [==============================] - 63s 33ms/step - loss: 0.1689 - accuracy: 0.9507 - val_loss: 0.0710 - val_accuracy: 0.9774\n",
      "Epoch 2/10\n",
      "1875/1875 [==============================] - 55s 29ms/step - loss: 0.0600 - accuracy: 0.9820 - val_loss: 0.0558 - val_accuracy: 0.9822\n",
      "Epoch 3/10\n",
      "1875/1875 [==============================] - 74s 39ms/step - loss: 0.0404 - accuracy: 0.9874 - val_loss: 0.0489 - val_accuracy: 0.9832\n",
      "Epoch 4/10\n",
      "1875/1875 [==============================] - 79s 42ms/step - loss: 0.0289 - accuracy: 0.9914 - val_loss: 0.0470 - val_accuracy: 0.9851\n",
      "Epoch 5/10\n",
      "1875/1875 [==============================] - 62s 33ms/step - loss: 0.0207 - accuracy: 0.9935 - val_loss: 0.0436 - val_accuracy: 0.9863\n",
      "Epoch 6/10\n",
      "1875/1875 [==============================] - 79s 42ms/step - loss: 0.0151 - accuracy: 0.9953 - val_loss: 0.0532 - val_accuracy: 0.9842\n",
      "Epoch 7/10\n",
      "1875/1875 [==============================] - 66s 35ms/step - loss: 0.0109 - accuracy: 0.9965 - val_loss: 0.0530 - val_accuracy: 0.9855\n",
      "Epoch 8/10\n",
      "1875/1875 [==============================] - 56s 30ms/step - loss: 0.0096 - accuracy: 0.9968 - val_loss: 0.0573 - val_accuracy: 0.9854\n",
      "Epoch 9/10\n",
      "1875/1875 [==============================] - 60s 32ms/step - loss: 0.0063 - accuracy: 0.9980 - val_loss: 0.0544 - val_accuracy: 0.9856\n",
      "Epoch 10/10\n",
      "1875/1875 [==============================] - 54s 29ms/step - loss: 0.0058 - accuracy: 0.9980 - val_loss: 0.0574 - val_accuracy: 0.9864\n"
     ]
    },
    {
     "data": {
      "text/plain": [
       "<keras.callbacks.History at 0x2a24f3c8190>"
      ]
     },
     "execution_count": 1,
     "metadata": {},
     "output_type": "execute_result"
    }
   ],
   "source": [
    "import tensorflow as tf\n",
    "from tensorflow.keras.datasets import mnist\n",
    "from tensorflow.keras.models import Sequential\n",
    "from tensorflow.keras.layers import Conv2D, MaxPooling2D, Flatten, Dense\n",
    "\n",
    "# Load and preprocess the MNIST dataset\n",
    "(x_train, y_train), (x_test, y_test) = mnist.load_data()\n",
    "x_train = x_train.reshape(-1, 28, 28, 1) / 255.0\n",
    "x_test = x_test.reshape(-1, 28, 28, 1) / 255.0\n",
    "y_train = tf.keras.utils.to_categorical(y_train, 10)\n",
    "y_test = tf.keras.utils.to_categorical(y_test, 10)\n",
    "\n",
    "# Build and train a CNN model\n",
    "model = Sequential([\n",
    "    Conv2D(32, (3, 3), activation='relu', input_shape=(28, 28, 1)),\n",
    "    MaxPooling2D((2, 2)),\n",
    "    Flatten(),\n",
    "    Dense(64, activation='relu'),\n",
    "    Dense(10, activation='softmax')\n",
    "])\n",
    "model.compile(optimizer='adam', loss='categorical_crossentropy', metrics=['accuracy'])\n",
    "model.fit(x_train, y_train, epochs=10, validation_data=(x_test, y_test))\n"
   ]
  }
 ],
 "metadata": {
  "kernelspec": {
   "display_name": "Python 3.9.13 ('base')",
   "language": "python",
   "name": "python3"
  },
  "language_info": {
   "codemirror_mode": {
    "name": "ipython",
    "version": 3
   },
   "file_extension": ".py",
   "mimetype": "text/x-python",
   "name": "python",
   "nbconvert_exporter": "python",
   "pygments_lexer": "ipython3",
   "version": "3.10.9"
  },
  "orig_nbformat": 4,
  "vscode": {
   "interpreter": {
    "hash": "25b24729ed588c18f0818cf5156368849fd910e56a03fee9310311f9c34e59fa"
   }
  }
 },
 "nbformat": 4,
 "nbformat_minor": 2
}
